{
 "cells": [
  {
   "cell_type": "code",
   "execution_count": 14,
   "metadata": {},
   "outputs": [],
   "source": [
    "from PIL import Image\n",
    "import os"
   ]
  },
  {
   "cell_type": "code",
   "execution_count": 19,
   "metadata": {},
   "outputs": [],
   "source": [
    "input_folder = \"to_clean_no_logo\"\n",
    "output_folder = \"cleaned_no_logo\"\n",
    "dataset_folders = os.listdir(input_folder)\n",
    "extension = \"png\""
   ]
  },
  {
   "cell_type": "code",
   "execution_count": 16,
   "metadata": {},
   "outputs": [],
   "source": [
    "os.mkdir(output_folder)\n",
    "for folder in dataset_folders:\n",
    "  if (folder == \".DS_Store\"):\n",
    "    continue\n",
    "  \n",
    "  files = os.listdir(f\"{input_folder}/{folder}\")\n",
    "\n",
    "  os.mkdir(f\"{output_folder}/{folder}\")\n",
    "\n",
    "  for index, file in enumerate(files):\n",
    "\n",
    "    if (file == \".DS_Store\") | (os.path.splitext(file)[-1] == \".svg\"):\n",
    "      continue\n",
    "\n",
    "    # print(file)\n",
    "    try:\n",
    "      img = Image.open(f\"{input_folder}/{folder}/{file}\")# .convert(\"RGB\") # => only for png\n",
    "      img.save(f\"{output_folder}/{folder}/{index}.{extension}\", extension)\n",
    "    except:\n",
    "      print(f\"Error with {file} ({folder})\")"
   ]
  },
  {
   "cell_type": "code",
   "execution_count": 17,
   "metadata": {},
   "outputs": [
    {
     "name": "stdout",
     "output_type": "stream",
     "text": [
      "0\n"
     ]
    }
   ],
   "source": [
    "# Check if there isn't any corrupted files\n",
    "error_count=0\n",
    "folder_count=0\n",
    "\n",
    "for folder in os.listdir(output_folder):\n",
    "  if (folder == \".DS_Store\"):\n",
    "    continue\n",
    "\n",
    "  files = os.listdir(f\"{output_folder}/{folder}\")\n",
    "  folder_count=0\n",
    "  for index, file in enumerate(files):\n",
    "\n",
    "    if (file == \".DS_Store\"):\n",
    "      continue\n",
    "\n",
    "    # print(file)\n",
    "    try:\n",
    "      img = Image.open(f\"{output_folder}/{folder}/{file}\")\n",
    "      img.verify()\n",
    "    except:\n",
    "      os.remove(f\"{output_folder}/{folder}/{file}\")\n",
    "      folder_count+=1\n",
    "      \n",
    "  if folder_count > 0:\n",
    "    print(folder_count, folder)\n",
    "  error_count+=folder_count\n",
    "print(error_count)"
   ]
  },
  {
   "cell_type": "code",
   "execution_count": 18,
   "metadata": {},
   "outputs": [
    {
     "name": "stdout",
     "output_type": "stream",
     "text": [
      "1836\n"
     ]
    }
   ],
   "source": [
    "# Count the number of elements in a directory\n",
    "\n",
    "count = 0\n",
    "for folder in os.listdir(output_folder):\n",
    "  if (folder == \".DS_Store\"):\n",
    "    continue\n",
    "  \n",
    "  files = os.listdir(f\"{output_folder}/{folder}\")\n",
    "\n",
    "\n",
    "  for index, file in enumerate(files):\n",
    "    if (file == \".DS_Store\"):\n",
    "      continue\n",
    "    count += 1\n",
    "\n",
    "print(count)"
   ]
  },
  {
   "cell_type": "code",
   "execution_count": null,
   "metadata": {},
   "outputs": [],
   "source": []
  }
 ],
 "metadata": {
  "interpreter": {
   "hash": "b4f38127354bbbf11134e8c14cc17daac7b35e8faaf836cc12d7980bb5480b10"
  },
  "kernelspec": {
   "display_name": "Python 3.10.4 ('datascience')",
   "language": "python",
   "name": "python3"
  },
  "language_info": {
   "codemirror_mode": {
    "name": "ipython",
    "version": 3
   },
   "file_extension": ".py",
   "mimetype": "text/x-python",
   "name": "python",
   "nbconvert_exporter": "python",
   "pygments_lexer": "ipython3",
   "version": "3.10.4"
  },
  "orig_nbformat": 4
 },
 "nbformat": 4,
 "nbformat_minor": 2
}
