{
 "cells": [
  {
   "cell_type": "code",
   "execution_count": 5,
   "metadata": {},
   "outputs": [],
   "source": [
    "import pandas as pd\n",
    "import tensorflow as tf\n",
    "from PIL import Image\n",
    "import os\n",
    "import shutil\n",
    "import random\n",
    "import numpy as np\n",
    "import json\n",
    "from yattag import Doc, indent"
   ]
  },
  {
   "cell_type": "code",
   "execution_count": 6,
   "metadata": {},
   "outputs": [],
   "source": [
    "input_folder = \"ready_for_bb_logo\"\n",
    "output_folder = \"bb_logo\"\n",
    "dataset_folders = os.listdir(input_folder)"
   ]
  },
  {
   "cell_type": "markdown",
   "metadata": {},
   "source": [
    "# Create bounding boxes of the size of the images before doing anything\n",
    "might want to treat labels too"
   ]
  },
  {
   "cell_type": "code",
   "execution_count": 36,
   "metadata": {},
   "outputs": [],
   "source": [
    "bboxes = {}\n",
    "bboxes_txt = []\n",
    "\n",
    "shutil.copytree(input_folder, output_folder)\n",
    "dataset_folders = os.listdir(output_folder)\n",
    "\n",
    "for label, folder in enumerate(dataset_folders):\n",
    "  if (folder == \".DS_Store\"):\n",
    "    continue\n",
    "\n",
    "  bboxes[folder] = {}\n",
    "\n",
    "  files = os.listdir(f\"{output_folder}/{folder}\")\n",
    "  for file in files:\n",
    "    if (file == \".DS_Store\"):\n",
    "      continue\n",
    "\n",
    "    img = Image.open(f\"{output_folder}/{folder}/{file}\")\n",
    "\n",
    "    top_left = (0, 0)\n",
    "    down_right = img.size\n",
    "\n",
    "    bboxes[folder][file] = [top_left[0], top_left[1], down_right[0], down_right[1], label]\n",
    "    bboxes_txt.append(f\"{folder}/{file} {top_left[0]} {top_left[1]} {down_right[0]} {down_right[1]} {label}\")"
   ]
  },
  {
   "cell_type": "code",
   "execution_count": 38,
   "metadata": {},
   "outputs": [],
   "source": [
    "with open('test.json', 'w') as f:\n",
    "  json.dump(bboxes, f)\n",
    "with open ('test.txt', 'w') as f:\n",
    "  f.write('\\n'.join(bboxes_txt))"
   ]
  },
  {
   "cell_type": "code",
   "execution_count": 34,
   "metadata": {},
   "outputs": [],
   "source": [
    "with open('labels.json', 'w') as f:\n",
    "  json.dump(dataset_folders, f)"
   ]
  },
  {
   "cell_type": "code",
   "execution_count": 7,
   "metadata": {},
   "outputs": [],
   "source": [
    "def write_xml(xmin, ymin, xmax, ymax, file, size, label):\n",
    "  file_name = os.path.splitext(file)[0]\n",
    "\n",
    "  doc, tag, text, line = Doc().ttl()\n",
    "  \n",
    "  with tag('root'):\n",
    "    with tag('filename'):\n",
    "      text(file)\n",
    "    with tag('size'):\n",
    "      line('width', size[0])\n",
    "      line('height', size[1])\n",
    "\n",
    "    with tag('object'):\n",
    "      line('name', label)\n",
    "\n",
    "      with tag('bndbox'):\n",
    "        line('xmin', xmin)\n",
    "        line('ymin', ymin)\n",
    "        line('xmax', xmax)\n",
    "        line('ymax', ymax)\n",
    "\n",
    "  result = indent(doc.getvalue())\n",
    "  with open(f'{output_folder}/annotations/{file_name}.xml', 'w') as f:\n",
    "    f.write(result)\n",
    "  "
   ]
  },
  {
   "cell_type": "code",
   "execution_count": 8,
   "metadata": {},
   "outputs": [],
   "source": [
    "os.mkdir(output_folder)\n",
    "os.mkdir(f\"{output_folder}/images\")\n",
    "os.mkdir(f\"{output_folder}/annotations\")\n",
    "\n",
    "\n",
    "for label, folder in enumerate(dataset_folders):\n",
    "  if (folder == \".DS_Store\"):\n",
    "    continue\n",
    "\n",
    "  files = os.listdir(f\"{input_folder}/{folder}\")\n",
    "  for file in files:\n",
    "    if (file == \".DS_Store\"):\n",
    "      continue\n",
    "    try:\n",
    "      img = Image.open(f\"{input_folder}/{folder}/{file}\")\n",
    "    except:\n",
    "      print(f\"Error loading {file} ({folder})\")\n",
    "      continue\n",
    "\n",
    "    top_left = (0, 0)\n",
    "    down_right = img.size\n",
    "\n",
    "    file = f\"{folder}__logo_{file}\"\n",
    "    write_xml(*top_left, *down_right, file, img.size, folder)\n",
    "\n",
    "    try:\n",
    "      img.save(f\"{output_folder}/images/{file}\")\n",
    "    except Exception as e:\n",
    "      print(f\"Error saving {file} ({folder}) \", e)"
   ]
  },
  {
   "cell_type": "code",
   "execution_count": 80,
   "metadata": {},
   "outputs": [],
   "source": [
    "doc, tag, text, line = Doc().ttl() # can also use tagtext but line is not available"
   ]
  },
  {
   "cell_type": "code",
   "execution_count": 81,
   "metadata": {},
   "outputs": [],
   "source": [
    "with tag('root'):\n",
    "  with tag('filename'):\n",
    "    text('un nom')\n",
    "  with tag('size'):\n",
    "    line('width', 500)\n",
    "    line('height', 500)\n",
    "\n",
    "  with tag('object'):\n",
    "    line('name', 'hello')\n",
    "\n",
    "    with tag('bndbox'):\n",
    "      line('xmin', 0)\n",
    "      line('ymin', 0)\n",
    "      line('xmax', 500)\n",
    "      line('ymax', 500)"
   ]
  },
  {
   "cell_type": "code",
   "execution_count": 82,
   "metadata": {},
   "outputs": [],
   "source": [
    "result = indent(doc.getvalue())"
   ]
  },
  {
   "cell_type": "code",
   "execution_count": 83,
   "metadata": {},
   "outputs": [],
   "source": [
    "with open('unfichier.xml', 'w') as f:\n",
    "  f.write(result)"
   ]
  },
  {
   "cell_type": "code",
   "execution_count": 65,
   "metadata": {},
   "outputs": [
    {
     "name": "stdout",
     "output_type": "stream",
     "text": [
      "0 1 3 4\n"
     ]
    }
   ],
   "source": [
    "x = (0, 1)\n",
    "y = (3, 4)\n",
    "print(*x, *y)"
   ]
  },
  {
   "cell_type": "markdown",
   "metadata": {},
   "source": [
    "# Check if there is any image with no xml"
   ]
  },
  {
   "cell_type": "code",
   "execution_count": 27,
   "metadata": {},
   "outputs": [],
   "source": [
    "for file in os.listdir(\"bounding_dataset/images\"):\n",
    "  if (file == \".DS_Store\"):\n",
    "    continue\n",
    "\n",
    "  file_name = os.path.splitext(file)[0]\n",
    "\n",
    "  try:\n",
    "    img = Image.open(f\"bounding_dataset/images/{file}\")\n",
    "    with open(f\"bounding_dataset/annotations/{file_name}.xml\", 'r') as f:\n",
    "      pass\n",
    "  except Exception as e:\n",
    "    print(f\"{file} ({folder})\", e)\n",
    "    continue"
   ]
  },
  {
   "cell_type": "code",
   "execution_count": 26,
   "metadata": {},
   "outputs": [],
   "source": [
    "for file in os.listdir(\"bounding_dataset/annotations\"):\n",
    "  if (file == \".DS_Store\"):\n",
    "    continue\n",
    "\n",
    "  file_name = os.path.splitext(file)[0]\n",
    "\n",
    "  try:\n",
    "    img = Image.open(f\"bounding_dataset/images/{file_name}.png\")\n",
    "    with open(f\"bounding_dataset/annotations/{file_name}.xml\", 'r') as f:\n",
    "      pass\n",
    "  except Exception as e:\n",
    "    print(f\"{file} ({folder})\", e)\n",
    "    continue"
   ]
  }
 ],
 "metadata": {
  "interpreter": {
   "hash": "b4f38127354bbbf11134e8c14cc17daac7b35e8faaf836cc12d7980bb5480b10"
  },
  "kernelspec": {
   "display_name": "Python 3.10.4 ('datascience')",
   "language": "python",
   "name": "python3"
  },
  "language_info": {
   "codemirror_mode": {
    "name": "ipython",
    "version": 3
   },
   "file_extension": ".py",
   "mimetype": "text/x-python",
   "name": "python",
   "nbconvert_exporter": "python",
   "pygments_lexer": "ipython3",
   "version": "3.10.4"
  },
  "orig_nbformat": 4
 },
 "nbformat": 4,
 "nbformat_minor": 2
}
