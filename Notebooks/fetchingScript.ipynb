{
 "cells": [
  {
   "cell_type": "code",
   "execution_count": 1,
   "metadata": {},
   "outputs": [],
   "source": [
    "import os\n",
    "from google_images_search import GoogleImagesSearch \n",
    "import re"
   ]
  },
  {
   "cell_type": "code",
   "execution_count": 2,
   "metadata": {},
   "outputs": [],
   "source": [
    "api_key = os.environ.get('API_KEY')\n",
    "cx = \"1d2d21fbbfad364f1\""
   ]
  },
  {
   "cell_type": "code",
   "execution_count": 3,
   "metadata": {},
   "outputs": [],
   "source": [
    "search_params = {\n",
    "  'q': '',\n",
    "  'num': 10,\n",
    "  'fileType': 'jpg|gif|png',\n",
    "}"
   ]
  },
  {
   "cell_type": "code",
   "execution_count": 10,
   "metadata": {},
   "outputs": [],
   "source": [
    "search_terms = [\n",
    "\"NordVPN\",\n",
    "\"ExpressVPN\",\n",
    "\"TunnelBear VPN\",\n",
    "\"KiwiCo\",\n",
    "\"Rhinoshield\",\n",
    "\"Raid shadow legends\",\n",
    "\"Genshin Impact\",\n",
    "\"World of Tanks\",\n",
    "\"Worlds of Warships\",\n",
    "\"Winamax\",\n",
    "\"Honey coupon\",\n",
    "\"SkillShare\",\n",
    "\"Audible\",\n",
    "\"Fruitz\",\n",
    "\"Dollar Shave Club\",\n",
    "\"Logitech\",\n",
    "\"Corsair\",\n",
    "\"Republic of Gamers\",\n",
    "\"Squarespace\",\n",
    "\"Ridge wallet\",\n",
    "\"Manscaped\",\n",
    "\"Hello Fresh\",\n",
    "\"Microsoft\",\n",
    "\"Amazon\",\n",
    "\"Displate\",\n",
    "\"Brilliant.org\",\n",
    "\"Uber Eats\",\n",
    "\"Levlup\",\n",
    "\"Coca Cola\",\n",
    "\"Redbull\",\n",
    "\"Crunchyroll\",\n",
    "\"DBrand\",\n",
    "\"GFuel\",\n",
    "\"Lootcrate\",\n",
    "\"State of Survival\",\n",
    "\"Surfshark\",\n",
    "\"War Thunder\",\n",
    "\"Gorillas brand\"]"
   ]
  },
  {
   "cell_type": "code",
   "execution_count": 6,
   "metadata": {},
   "outputs": [
    {
     "name": "stdout",
     "output_type": "stream",
     "text": [
      "{'q': 'Gorillas brand', 'num': 10, 'fileType': 'jpg|gif|png'} gorillas_brand\n",
      "{'q': 'Gorillas brand', 'num': 10, 'fileType': 'jpg|gif|png'} gorillas_brand\n",
      "{'q': 'Gorillas brand', 'num': 10, 'fileType': 'jpg|gif|png'} gorillas_brand\n",
      "{'q': 'Gorillas brand', 'num': 10, 'fileType': 'jpg|gif|png'} gorillas_brand\n",
      "{'q': 'Gorillas brand', 'num': 10, 'fileType': 'jpg|gif|png'} gorillas_brand\n"
     ]
    }
   ],
   "source": [
    "folder = \"output\"\n",
    "pages = 5\n",
    "\n",
    "os.mkdir(folder)\n",
    "\n",
    "for brand in search_terms:\n",
    "  gis = GoogleImagesSearch(api_key, cx)\n",
    "  folder_name = re.sub(r\"[èéêà&\\d\\. ]+\", \"_\", brand.lower())\n",
    "  \n",
    "  for page in range(pages):\n",
    "    search_params = {\n",
    "      'q': brand, # + \" logo\",\n",
    "      'num': 10,\n",
    "      'fileType': 'jpg|gif|png',\n",
    "    }\n",
    "\n",
    "    print(search_params, folder_name)\n",
    "    gis.search(search_params)\n",
    "\n",
    "    for image in gis.results():\n",
    "      try:\n",
    "        image.download(f\"{folder}/{folder_name}\")\n",
    "      except:\n",
    "        print(f\"error with saving in {folder_name}\")\n",
    "\n",
    "    gis.next_page()"
   ]
  }
 ],
 "metadata": {
  "interpreter": {
   "hash": "35ff72f9aab7a32ed0d62dd678892e11862f97b2692f3a997cc2dc0d18a187ed"
  },
  "kernelspec": {
   "display_name": "Python 3.8.12 ('pycaret')",
   "language": "python",
   "name": "python3"
  },
  "language_info": {
   "codemirror_mode": {
    "name": "ipython",
    "version": 3
   },
   "file_extension": ".py",
   "mimetype": "text/x-python",
   "name": "python",
   "nbconvert_exporter": "python",
   "pygments_lexer": "ipython3",
   "version": "3.8.12"
  },
  "orig_nbformat": 4
 },
 "nbformat": 4,
 "nbformat_minor": 2
}
