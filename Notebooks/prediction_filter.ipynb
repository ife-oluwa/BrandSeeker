{
 "cells": [
  {
   "cell_type": "code",
   "execution_count": 1,
   "metadata": {},
   "outputs": [],
   "source": [
    "import numpy as np\n",
    "import json\n",
    "from itertools import chain"
   ]
  },
  {
   "cell_type": "code",
   "execution_count": 3,
   "metadata": {},
   "outputs": [],
   "source": [
    "with open('output.txt', 'r') as f:\n",
    "  data = json.load(f)"
   ]
  },
  {
   "cell_type": "code",
   "execution_count": 49,
   "metadata": {},
   "outputs": [],
   "source": [
    "def filter_output(output, fps, time, seconds_threshold=2, score_threshold=0.09, alpha=0.7):\n",
    "\n",
    "    total_predicted_frames = len(set(chain(*[content['frame'] for content in output.values()])))\n",
    "    timeMin = time/60\n",
    "\n",
    "    \n",
    "    if alpha is None:\n",
    "        if timeMin > 30:\n",
    "            alpha = 0.2\n",
    "        elif timeMin < 10:\n",
    "            alpha = 0.6\n",
    "        else:\n",
    "            alpha = timeMin * 0.2 / 10\n",
    "\n",
    "    alphaFrame = 1 - alpha\n",
    "    alphaConf = alpha\n",
    "\n",
    "    print(alpha)\n",
    "\n",
    "    # Remove the brands that appears less than the threshold authorizes\n",
    "    frames_threshold = seconds_threshold * fps\n",
    "    output = {brand: content for brand, content in output.items() if len(content['frame']) > frames_threshold}\n",
    "\n",
    "    output_dict = {}\n",
    "    for brand, content in output.items():\n",
    "\n",
    "        regularized_frame = 1 / (len(content['frame']) / total_predicted_frames)\n",
    "        regularized_conf = 1 / (np.median(content['confidence']))\n",
    "        score = 2 / (regularized_frame * alphaFrame + regularized_conf * alphaConf)\n",
    "        max_conf = content['confidence'].index(max(content['confidence']))\n",
    "\n",
    "        if score > score_threshold:\n",
    "            output_dict[brand] = [score, (np.median(content['confidence'])), content['frame'][max_conf], content['bbox'][max_conf]]\n",
    "\n",
    "\n",
    "    maxscore = max(content[0] for content in output_dict.values())\n",
    "    output = {brand: content for brand, content in output_dict.items() if content[0] > (maxscore - 0.1)}\n",
    "\n",
    "    return output"
   ]
  },
  {
   "cell_type": "code",
   "execution_count": 39,
   "metadata": {},
   "outputs": [
    {
     "data": {
      "text/plain": [
       "1.509328381078612"
      ]
     },
     "execution_count": 39,
     "metadata": {},
     "output_type": "execute_result"
    }
   ],
   "source": [
    "max({brand: content[0] for brand, content in brands.items()}.values())"
   ]
  },
  {
   "cell_type": "code",
   "execution_count": 44,
   "metadata": {},
   "outputs": [
    {
     "data": {
      "text/plain": [
       "1.509328381078612"
      ]
     },
     "execution_count": 44,
     "metadata": {},
     "output_type": "execute_result"
    }
   ],
   "source": [
    "max(content[0] for content in brands.values())"
   ]
  },
  {
   "cell_type": "code",
   "execution_count": 50,
   "metadata": {},
   "outputs": [
    {
     "name": "stdout",
     "output_type": "stream",
     "text": [
      "0.1\n",
      "{'Manscaped': [0.11132158330421818, 0.5236480236053467, 6192, [21.073402404785156, 258.95538330078125, 219.47967529296875, 316.30029296875]], 'Winamax': [1.5171042641456198, 0.7958248257637024, 57828, [394.0444030761719, 199.0662078857422, 430.9015197753906, 234.6209259033203]], 'Coca Cola': [0.1978929679680001, 0.5960767269134521, 39564, [0.7292270660400391, 58.13571548461914, 37.591896057128906, 101.61737060546875]], 'Uber Eats': [0.23253765410465954, 0.5049731135368347, 36708, [540.8789672851562, 59.06572341918945, 571.6105346679688, 72.69795989990234]]}\n"
     ]
    },
    {
     "data": {
      "text/plain": [
       "['Winamax']"
      ]
     },
     "execution_count": 50,
     "metadata": {},
     "output_type": "execute_result"
    }
   ],
   "source": [
    "brands = filter_output(data, 5, seconds_threshold=1, time=19*60, alpha=0.1)\n",
    "[brand for brand in brands]"
   ]
  },
  {
   "cell_type": "code",
   "execution_count": 31,
   "metadata": {},
   "outputs": [
    {
     "data": {
      "text/plain": [
       "{'Manscaped': [0.10135737965153786,\n",
       "  0.5236480236053467,\n",
       "  6192,\n",
       "  [21.073402404785156,\n",
       "   258.95538330078125,\n",
       "   219.47967529296875,\n",
       "   316.30029296875]],\n",
       " 'Winamax': [1.509328381078612,\n",
       "  0.7958248257637024,\n",
       "  57828,\n",
       "  [394.0444030761719,\n",
       "   199.0662078857422,\n",
       "   430.9015197753906,\n",
       "   234.6209259033203]],\n",
       " 'Coca Cola': [0.18126375566966552,\n",
       "  0.5960767269134521,\n",
       "  39564,\n",
       "  [0.7292270660400391,\n",
       "   58.13571548461914,\n",
       "   37.591896057128906,\n",
       "   101.61737060546875]],\n",
       " 'Uber Eats': [0.21438507619039435,\n",
       "  0.5049731135368347,\n",
       "  36708,\n",
       "  [540.8789672851562,\n",
       "   59.06572341918945,\n",
       "   571.6105346679688,\n",
       "   72.69795989990234]]}"
      ]
     },
     "execution_count": 31,
     "metadata": {},
     "output_type": "execute_result"
    }
   ],
   "source": [
    "brands"
   ]
  },
  {
   "cell_type": "code",
   "execution_count": 26,
   "metadata": {},
   "outputs": [
    {
     "data": {
      "text/plain": [
       "{'NordVPN': 1.2161660360956796}"
      ]
     },
     "execution_count": 26,
     "metadata": {},
     "output_type": "execute_result"
    }
   ],
   "source": [
    "# Division\n",
    "total_predicted_frames = len(set(chain(*[content['frame'] for content in data.values()])))\n",
    "{brand: (len(content['frame']) / total_predicted_frames) / (np.median(content['confidence'])) for brand, content in data.items()}"
   ]
  },
  {
   "cell_type": "code",
   "execution_count": 27,
   "metadata": {},
   "outputs": [
    {
     "data": {
      "text/plain": [
       "{'NordVPN': 0.8222561478614807}"
      ]
     },
     "execution_count": 27,
     "metadata": {},
     "output_type": "execute_result"
    }
   ],
   "source": [
    "# Multiplication\n",
    "total_predicted_frames = len(set(chain(*[content['frame'] for content in data.values()])))\n",
    "{brand: (len(content['frame']) / total_predicted_frames) * (np.median(content['confidence'])) for brand, content in data.items()}"
   ]
  },
  {
   "cell_type": "code",
   "execution_count": 28,
   "metadata": {},
   "outputs": [
    {
     "data": {
      "text/plain": [
       "{'NordVPN': 0.9111280739307404}"
      ]
     },
     "execution_count": 28,
     "metadata": {},
     "output_type": "execute_result"
    }
   ],
   "source": [
    "# Mean\n",
    "{brand: ((len(content['frame']) / total_predicted_frames) + (np.median(content['confidence']))) / 2 for brand, content in data.items()}"
   ]
  },
  {
   "cell_type": "code",
   "execution_count": 29,
   "metadata": {},
   "outputs": [
    {
     "data": {
      "text/plain": [
       "{'NordVPN': 0.9024594581024673}"
      ]
     },
     "execution_count": 29,
     "metadata": {},
     "output_type": "execute_result"
    }
   ],
   "source": [
    "# Moyenne harmonique\n",
    "total_predicted_frames = len(set(chain(*[content['frame'] for content in data.values()])))\n",
    "{brand: 2 / ( (1/((len(content['frame']) / total_predicted_frames))) + (1/(np.median(content['confidence']))) ) for brand, content in data.items()}"
   ]
  },
  {
   "cell_type": "code",
   "execution_count": 30,
   "metadata": {},
   "outputs": [
    {
     "data": {
      "text/plain": [
       "{'NordVPN': 0.8222561478614807}"
      ]
     },
     "execution_count": 30,
     "metadata": {},
     "output_type": "execute_result"
    }
   ],
   "source": [
    "{brand: np.median(content['confidence']) for brand, content in data.items()}"
   ]
  },
  {
   "cell_type": "code",
   "execution_count": 81,
   "metadata": {},
   "outputs": [
    {
     "data": {
      "text/plain": [
       "['Amazon',\n",
       " 'Brilliant.org',\n",
       " 'Crunchyroll',\n",
       " 'Dollar Shave Club',\n",
       " 'Logitech',\n",
       " 'Manscaped',\n",
       " 'audible']"
      ]
     },
     "execution_count": 81,
     "metadata": {},
     "output_type": "execute_result"
    }
   ],
   "source": [
    "[brand for brand, content in data.items() if len(content['frame']) >= 1]"
   ]
  },
  {
   "cell_type": "code",
   "execution_count": 38,
   "metadata": {},
   "outputs": [
    {
     "data": {
      "text/plain": [
       "['audible']"
      ]
     },
     "execution_count": 38,
     "metadata": {},
     "output_type": "execute_result"
    }
   ],
   "source": []
  },
  {
   "cell_type": "code",
   "execution_count": 66,
   "metadata": {},
   "outputs": [
    {
     "data": {
      "text/plain": [
       "807"
      ]
     },
     "execution_count": 66,
     "metadata": {},
     "output_type": "execute_result"
    }
   ],
   "source": [
    "len(set(chain(*[content['frame'] for brand, content in data.items()])))"
   ]
  },
  {
   "cell_type": "code",
   "execution_count": 58,
   "metadata": {},
   "outputs": [
    {
     "data": {
      "text/plain": [
       "{'Amazon': 5,\n",
       " 'Brilliant.org': 6,\n",
       " 'Crunchyroll': 6,\n",
       " 'Dollar Shave Club': 16,\n",
       " 'GFuel': 1,\n",
       " 'Genshin Impact': 3,\n",
       " 'Logitech': 10,\n",
       " 'Lootcrate': 4,\n",
       " 'Manscaped': 7,\n",
       " 'Uber Eats': 2,\n",
       " 'audible': 745,\n",
       " 'levlup': 4}"
      ]
     },
     "execution_count": 58,
     "metadata": {},
     "output_type": "execute_result"
    }
   ],
   "source": [
    "{brand: len(content['frame']) for brand, content in data.items()}"
   ]
  },
  {
   "cell_type": "code",
   "execution_count": null,
   "metadata": {},
   "outputs": [],
   "source": []
  }
 ],
 "metadata": {
  "kernelspec": {
   "display_name": "Python 3.10.4 64-bit",
   "language": "python",
   "name": "python3"
  },
  "language_info": {
   "codemirror_mode": {
    "name": "ipython",
    "version": 3
   },
   "file_extension": ".py",
   "mimetype": "text/x-python",
   "name": "python",
   "nbconvert_exporter": "python",
   "pygments_lexer": "ipython3",
   "version": "3.10.4"
  },
  "orig_nbformat": 4,
  "vscode": {
   "interpreter": {
    "hash": "916dbcbb3f70747c44a77c7bcd40155683ae19c65e1c03b4aa3499c5328201f1"
   }
  }
 },
 "nbformat": 4,
 "nbformat_minor": 2
}
