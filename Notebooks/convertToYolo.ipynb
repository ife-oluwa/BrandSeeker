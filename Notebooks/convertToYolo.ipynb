{
 "cells": [
  {
   "cell_type": "code",
   "execution_count": 1,
   "metadata": {},
   "outputs": [],
   "source": [
    "import xml.etree.ElementTree as ET\n",
    "import glob\n",
    "import os\n",
    "import json"
   ]
  },
  {
   "cell_type": "code",
   "execution_count": 2,
   "metadata": {},
   "outputs": [],
   "source": [
    "def xml_to_yolo_bbox(bbox, w, h):\n",
    "    # xmin, ymin, xmax, ymax\n",
    "    x_center = min(((bbox[2] + bbox[0]) / 2) / w,1)\n",
    "    y_center = min(((bbox[3] + bbox[1]) / 2) / h,1)\n",
    "    width = min((bbox[2] - bbox[0]) / w,1)\n",
    "    height = min((bbox[3] - bbox[1]) / h,1)\n",
    "    return [x_center, y_center, width, height]\n",
    "def yolo_to_xml_bbox(bbox, w, h):\n",
    "    # x_center, y_center width heigth\n",
    "    w_half_len = (bbox[2] * w) / 2\n",
    "    h_half_len = (bbox[3] * h) / 2\n",
    "    xmin = int((bbox[0] * w) - w_half_len)\n",
    "    ymin = int((bbox[1] * h) - h_half_len)\n",
    "    xmax = int((bbox[0] * w) + w_half_len)\n",
    "    ymax = int((bbox[1] * h) + h_half_len)\n",
    "    return [xmin, ymin, xmax, ymax]"
   ]
  },
  {
   "cell_type": "code",
   "execution_count": 9,
   "metadata": {},
   "outputs": [
    {
     "ename": "FileExistsError",
     "evalue": "[Errno 17] File exists: '640_data_augment_yolo'",
     "output_type": "error",
     "traceback": [
      "\u001b[0;31m---------------------------------------------------------------------------\u001b[0m",
      "\u001b[0;31mFileExistsError\u001b[0m                           Traceback (most recent call last)",
      "\u001b[1;32m/Users/rom1/Documents/VSCode/YTSponso/convertToYolo.ipynb Cell 3'\u001b[0m in \u001b[0;36m<cell line: 6>\u001b[0;34m()\u001b[0m\n\u001b[1;32m      <a href='vscode-notebook-cell:/Users/rom1/Documents/VSCode/YTSponso/convertToYolo.ipynb#ch0000002?line=3'>4</a>\u001b[0m output_dir \u001b[39m=\u001b[39m \u001b[39m\"\u001b[39m\u001b[39m640_data_augment_yolo\u001b[39m\u001b[39m\"\u001b[39m\n\u001b[1;32m      <a href='vscode-notebook-cell:/Users/rom1/Documents/VSCode/YTSponso/convertToYolo.ipynb#ch0000002?line=4'>5</a>\u001b[0m output_labels \u001b[39m=\u001b[39m \u001b[39mf\u001b[39m\u001b[39m\"\u001b[39m\u001b[39m{\u001b[39;00moutput_dir\u001b[39m}\u001b[39;00m\u001b[39m/labels\u001b[39m\u001b[39m\"\u001b[39m\n\u001b[0;32m----> <a href='vscode-notebook-cell:/Users/rom1/Documents/VSCode/YTSponso/convertToYolo.ipynb#ch0000002?line=5'>6</a>\u001b[0m os\u001b[39m.\u001b[39;49mmkdir(output_dir)\n\u001b[1;32m      <a href='vscode-notebook-cell:/Users/rom1/Documents/VSCode/YTSponso/convertToYolo.ipynb#ch0000002?line=6'>7</a>\u001b[0m os\u001b[39m.\u001b[39mmkdir(output_labels)\n",
      "\u001b[0;31mFileExistsError\u001b[0m: [Errno 17] File exists: '640_data_augment_yolo'"
     ]
    }
   ],
   "source": [
    "classes = []\n",
    "input_dir = \"640_data_augment\"\n",
    "image_dir = f\"640_data_augment/images/\"\n",
    "output_dir = \"640_data_augment_yolo\"\n",
    "output_labels = f\"{output_dir}/labels\"\n",
    "os.mkdir(output_dir)\n",
    "os.mkdir(output_labels)"
   ]
  },
  {
   "cell_type": "code",
   "execution_count": 7,
   "metadata": {},
   "outputs": [],
   "source": [
    "files = glob.glob(os.path.join(f\"{input_dir}/annotations/\", '*.xml'))\n",
    "for fil in files:\n",
    "    basename = os.path.basename(fil)\n",
    "    filename = os.path.splitext(basename)[0]\n",
    "    # check if the label contains the corresponding image file\n",
    "    if not os.path.exists(os.path.join(image_dir, f\"{filename}.png\")):\n",
    "        print(f\"{filename} image does not exist!\")\n",
    "        continue\n",
    "\n",
    "    result = []\n",
    "\n",
    "    # parse the content of the xml file\n",
    "    tree = ET.parse(fil)\n",
    "    root = tree.getroot()\n",
    "    width = int(root.find(\"size\").find(\"width\").text)\n",
    "    height = int(root.find(\"size\").find(\"height\").text)\n",
    "\n",
    "    for obj in root.findall('object'):\n",
    "        label = obj.find(\"name\").text\n",
    "        # check for new classes and append to list\n",
    "        if label not in classes:\n",
    "            classes.append(label)\n",
    "        index = classes.index(label)\n",
    "        pil_bbox = [int(x.text) for x in obj.find(\"bndbox\")]\n",
    "        yolo_bbox = xml_to_yolo_bbox(pil_bbox, width, height)\n",
    "        # convert data to string\n",
    "        bbox_string = \" \".join([str(x) for x in yolo_bbox])\n",
    "        result.append(f\"{index} {bbox_string}\")\n",
    "\n",
    "    if result:\n",
    "        # generate a YOLO format text file for each xml file\n",
    "        with open(os.path.join(output_labels, f\"{filename}.txt\"), \"w\", encoding=\"utf-8\") as f:\n",
    "            f.write(\"\\n\".join(result))\n",
    "\n",
    "# generate the classes file as reference"
   ]
  },
  {
   "cell_type": "code",
   "execution_count": 8,
   "metadata": {},
   "outputs": [],
   "source": [
    "with open(f'{output_dir}/classes.txt', 'w', encoding='utf8') as f:\n",
    "    f.write(json.dumps(classes))"
   ]
  },
  {
   "cell_type": "markdown",
   "metadata": {},
   "source": [
    "# split data"
   ]
  },
  {
   "cell_type": "code",
   "execution_count": 10,
   "metadata": {},
   "outputs": [],
   "source": [
    "img_dir = f'{input_dir}/images/'\n",
    "txt_dir = f'{output_dir}/labels/'\n",
    "#dir = 'drive/MyDrive/no_resize_no_augmentation/'\n",
    "import os\n",
    "import random\n",
    "import shutil\n",
    "\n",
    "nb_image = len(os.listdir(img_dir))\n",
    "list_images = []\n",
    "\n",
    "# for i in os.listdir(img_dir):\n",
    "#   list_images.append(i)\n",
    "# random.shuffle(list_images)\n",
    "\n",
    "# test_images = list_images[:int(len(list_images)/10)]\n",
    "# train_images = list_images[len(test_images):]\n",
    "# test_txt = [x[:-3]+ 'txt' for x in test_images]\n",
    "# train_txt = [x[:-3]+ 'txt' for x in train_images]\n",
    "\n",
    "for i in os.listdir(img_dir):\n",
    "  if i[i.find('__')+2:].find('_') == -1 or (i.find('logo') != -1 and i[i.find('__')+2:].count('_') == 1):\n",
    "    list_images.append(i)\n",
    "random.shuffle(list_images)\n",
    "\n",
    "test_images = list_images[:int(len(list_images)/10)]\n",
    "train_images = list_images[len(test_images):]\n",
    "test_txt = [x[:-3]+ 'txt' for x in test_images]\n",
    "train_txt = [x[:-3]+ 'txt' for x in train_images]"
   ]
  },
  {
   "cell_type": "code",
   "execution_count": 13,
   "metadata": {},
   "outputs": [],
   "source": [
    "os.mkdir(f\"{output_dir}/images/\")\n",
    "os.mkdir(f\"{output_dir}/images/test/\")\n",
    "os.mkdir(f\"{output_dir}/images/train/\")\n",
    "for image in os.listdir(img_dir):\n",
    "  if image in ['train','test']:\n",
    "    continue\n",
    "\n",
    "  if image in test_images or image in train_images:\n",
    "    image_root = image\n",
    "  else:\n",
    "    image_root = image[:image.rfind('_')]+ '.png'\n",
    "\n",
    "  if image_root in test_images:\n",
    "    shutil.copy(img_dir + image, f\"{output_dir}/images/test/\" + image)\n",
    "  if image_root in train_images:\n",
    "    shutil.copy(img_dir + image, f\"{output_dir}/images/train/\" + image)"
   ]
  },
  {
   "cell_type": "code",
   "execution_count": 4,
   "metadata": {},
   "outputs": [],
   "source": [
    "os.mkdir(txt_dir + 'test/' )\n",
    "os.mkdir(txt_dir + 'train/')\n",
    "for txt in os.listdir(txt_dir):\n",
    "  if txt in ['train','test']:\n",
    "    continue\n",
    "\n",
    "  if txt in test_txt or txt in train_txt:\n",
    "    txt_root = txt\n",
    "  else:\n",
    "    txt_root = txt[:txt.rfind('_')]+ '.txt'\n",
    "\n",
    "  if txt_root in test_txt:\n",
    "    shutil.move(txt_dir + txt, txt_dir + 'test/' + txt)\n",
    "  if txt_root in train_txt:\n",
    "    shutil.move(txt_dir + txt, txt_dir + 'train/' + txt)"
   ]
  }
 ],
 "metadata": {
  "kernelspec": {
   "display_name": "Python 3.10.4 ('datascience')",
   "language": "python",
   "name": "python3"
  },
  "language_info": {
   "codemirror_mode": {
    "name": "ipython",
    "version": 3
   },
   "file_extension": ".py",
   "mimetype": "text/x-python",
   "name": "python",
   "nbconvert_exporter": "python",
   "pygments_lexer": "ipython3",
   "version": "3.10.4"
  },
  "orig_nbformat": 4,
  "vscode": {
   "interpreter": {
    "hash": "b4f38127354bbbf11134e8c14cc17daac7b35e8faaf836cc12d7980bb5480b10"
   }
  }
 },
 "nbformat": 4,
 "nbformat_minor": 2
}
