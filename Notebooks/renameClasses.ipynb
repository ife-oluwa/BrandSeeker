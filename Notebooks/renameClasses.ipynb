{
 "cells": [
  {
   "cell_type": "code",
   "execution_count": 42,
   "metadata": {},
   "outputs": [],
   "source": [
    "import pandas as pd\n",
    "import tensorflow as tf\n",
    "from PIL import Image\n",
    "import os\n",
    "import shutil\n",
    "import random\n",
    "import numpy as np\n",
    "import json\n",
    "from yattag import Doc, indent\n",
    "import xml.etree.ElementTree as ET\n",
    "import re"
   ]
  },
  {
   "cell_type": "code",
   "execution_count": 43,
   "metadata": {},
   "outputs": [],
   "source": [
    "names_clean = [\n",
    "\"NordVPN\",\n",
    "\"ExpressVPN\",\n",
    "\"TunnelBear VPN\",\n",
    "\"KiwiCo\",\n",
    "\"Rhinoshield\",\n",
    "\"Raid shadow legends\",\n",
    "\"Genshin Impact\",\n",
    "\"World of Tanks\",\n",
    "\"Worlds of Warships\",\n",
    "\"Winamax\",\n",
    "\"Honey coupon\", # is honey\n",
    "\"SkillShare\",\n",
    "\"audible\",\n",
    "\"Fruitz\",\n",
    "\"Dollar Shave Club\",\n",
    "\"Logitech\",\n",
    "\"Corsair\",\n",
    "\"Republic of Gamers\",\n",
    "\"Squarespace\",\n",
    "\"Ridge wallet\",\n",
    "\"Manscaped\",\n",
    "\"Hello Fresh\",\n",
    "\"Microsoft\",\n",
    "\"Amazon\",\n",
    "\"Displate\",\n",
    "\"Brilliant.org\",\n",
    "\"Uber Eats\",\n",
    "\"levlup\",\n",
    "\"Coca Cola\",\n",
    "\"Redbull\",\n",
    "\"Crunchyroll\",\n",
    "\"DBrand\",\n",
    "\"GFuel\",\n",
    "\"Lootcrate\",\n",
    "\"State of Survival\",\n",
    "\"Surfshark\",\n",
    "\"War Thunder\",\n",
    "\"Gorillas brand\"] # is gorillas"
   ]
  },
  {
   "cell_type": "code",
   "execution_count": 44,
   "metadata": {},
   "outputs": [],
   "source": [
    "logo_names = {re.sub(r\"[èéêà&\\d\\. ]+\", \"_\", name.lower()): name for name in names_clean}\n",
    "logo_names[\"gorillas\"] = \"Gorillas brand\"\n",
    "logo_names[\"honey\"] = \"Honey coupon\""
   ]
  },
  {
   "cell_type": "code",
   "execution_count": 45,
   "metadata": {},
   "outputs": [],
   "source": [
    "folder = \"no_resize_no_augmentation/annotations\""
   ]
  },
  {
   "cell_type": "code",
   "execution_count": 46,
   "metadata": {},
   "outputs": [],
   "source": [
    "for file in os.listdir(folder):\n",
    "  if (file == \".DS_Store\"):\n",
    "    continue\n",
    "\n",
    "  bbfile = ET.parse(f\"{folder}/{file}\")\n",
    "  \n",
    "  for bbox in bbfile.findall('object'):\n",
    "    if logo_names.get(bbox.find('name').text):\n",
    "      bbox.find('name').text = logo_names.get(bbox.find('name').text)\n",
    "  \n",
    "  bbfile.write(f\"{folder}/{file}\")"
   ]
  },
  {
   "cell_type": "code",
   "execution_count": null,
   "metadata": {},
   "outputs": [],
   "source": []
  }
 ],
 "metadata": {
  "interpreter": {
   "hash": "b4f38127354bbbf11134e8c14cc17daac7b35e8faaf836cc12d7980bb5480b10"
  },
  "kernelspec": {
   "display_name": "Python 3.10.4 ('datascience')",
   "language": "python",
   "name": "python3"
  },
  "language_info": {
   "codemirror_mode": {
    "name": "ipython",
    "version": 3
   },
   "file_extension": ".py",
   "mimetype": "text/x-python",
   "name": "python",
   "nbconvert_exporter": "python",
   "pygments_lexer": "ipython3",
   "version": "3.10.4"
  },
  "orig_nbformat": 4
 },
 "nbformat": 4,
 "nbformat_minor": 2
}
